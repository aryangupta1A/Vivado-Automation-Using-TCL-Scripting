{
 "cells": [
  {
   "attachments": {},
   "cell_type": "markdown",
   "id": "7316eb72",
   "metadata": {},
   "source": [
    "Importing Libraries needed to run script"
   ]
  },
  {
   "cell_type": "code",
   "execution_count": 1,
   "id": "fc89e174-4bd3-4334-9423-b2e9011005e5",
   "metadata": {},
   "outputs": [],
   "source": [
    "import os\n",
    "import numpy as np\n",
    "import pandas as pd\n",
    "import shutil\n",
    "import csv"
   ]
  },
  {
   "attachments": {},
   "cell_type": "markdown",
   "id": "4ecf98dc",
   "metadata": {},
   "source": [
    "Removing existing results and making new directories to store new results"
   ]
  },
  {
   "cell_type": "code",
   "execution_count": 2,
   "id": "cc6869d1-6b0e-43f1-a798-68eda6c04a5d",
   "metadata": {},
   "outputs": [],
   "source": [
    "directories=os.listdir()\n",
    "if \"Automation\" in directories:\n",
    "    shutil.rmtree(os.getcwd()+\"/Automation\")\n",
    "if \"Log_Files\" in directories:\n",
    "    shutil.rmtree(os.getcwd()+\"/Log_Files\")    \n",
    "if \"Impl\" in directories:\n",
    "    shutil.rmtree(os.getcwd()+\"/Impl\") \n",
    "if \"Program_Status.txt\" in directories:\n",
    "    os.remove(os.getcwd()+\"/Program_Status.txt\")\n",
    "if \"result.csv\" in directories:\n",
    "    os.remove(os.getcwd()+\"/result.csv\")    \n",
    "os.mkdir(\"Automation\")\n",
    "os.mkdir(\"Impl\")\n",
    "os.mkdir(\"Log_Files\")   "
   ]
  },
  {
   "attachments": {},
   "cell_type": "markdown",
   "id": "c6ab0566",
   "metadata": {},
   "source": [
    "Generating a string containing the names of all the modules"
   ]
  },
  {
   "cell_type": "code",
   "execution_count": 3,
   "id": "90985f07-a3fd-4b8c-a99a-16afb751adee",
   "metadata": {},
   "outputs": [],
   "source": [
    "modules_list = os.listdir(\"Modules\")\n",
    "files = [file for file in modules_list if \".v\" or \".sv\"  in file] "
   ]
  },
  {
   "cell_type": "code",
   "execution_count": 5,
   "id": "d56420ad-31a1-4b08-a8cc-c53705eb7e0d",
   "metadata": {},
   "outputs": [],
   "source": [
    "files_string=\"\"\n",
    "for file in files:\n",
    "    files_string=files_string+file+\" \""
   ]
  },
  {
   "attachments": {},
   "cell_type": "markdown",
   "id": "8e2e0268",
   "metadata": {},
   "source": [
    "Running the tcl_add script with files_string as an argument to add all the module files in a newly created vivado project"
   ]
  },
  {
   "cell_type": "code",
   "execution_count": 7,
   "id": "2b6a486e-5610-47f2-8c8f-f0b40e16adc4",
   "metadata": {},
   "outputs": [
    {
     "data": {
      "text/plain": [
       "0"
      ]
     },
     "execution_count": 7,
     "metadata": {},
     "output_type": "execute_result"
    }
   ],
   "source": [
    "os.system(\"vivado -mode batch -source Script/tcl_add.tcl -tclargs {}\".format(files_string))"
   ]
  },
  {
   "attachments": {},
   "cell_type": "markdown",
   "id": "f7b125ab",
   "metadata": {},
   "source": [
    "Finding the top modules"
   ]
  },
  {
   "cell_type": "code",
   "execution_count": 8,
   "id": "e3703c42-9847-41d4-ad94-15116ee2bfbb",
   "metadata": {},
   "outputs": [],
   "source": [
    "top_modules = [mod for mod in files if mod[:3]=='top']"
   ]
  },
  {
   "cell_type": "code",
   "execution_count": 9,
   "id": "ab962135-d7e4-4b91-b6b4-eeddfc9240b5",
   "metadata": {},
   "outputs": [],
   "source": [
    "top_module_string=\"\"\n",
    "for file in top_modules:\n",
    "    if \".v\" in file:\n",
    "        top_module_string=top_module_string+file[0:-2]+\" \"\n",
    "    if \".sv\" in file:\n",
    "        top_module_string=top_module_string+file[0:-3]+\" \"        "
   ]
  },
  {
   "attachments": {},
   "cell_type": "markdown",
   "id": "ec689758",
   "metadata": {},
   "source": [
    "Making an Impl folder with sub folders each having the name of a particular top_module to save its implementation results"
   ]
  },
  {
   "cell_type": "code",
   "execution_count": 11,
   "id": "79e569f9-7131-4e6e-ab1e-02e586de37f1",
   "metadata": {},
   "outputs": [],
   "source": [
    "for filename in top_modules:\n",
    "    if \".v\" in filename:\n",
    "        os.mkdir(\"Impl/\"+filename[:-2])\n",
    "    if \".sv\" in filename:\n",
    "        os.mkdir(\"Impl/\"+filename[:-3])  "
   ]
  },
  {
   "attachments": {},
   "cell_type": "markdown",
   "id": "c4e01507",
   "metadata": {},
   "source": [
    "Running the tcl_run script with top_module_string as an argument to run the synthesis and implementation of all the top_modules and store the results in Impl folder. Note that the results won't be generated for those files whose synthesis or implementation has failed. For them, a seperate Log_Files directory is generated which will have the runme.log having the reason of synthesis or implementation failure.\n",
    "\n",
    "Also, note that the script continues on to synthesis the next module in case the current module fails."
   ]
  },
  {
   "cell_type": "code",
   "execution_count": 12,
   "id": "47d8e94a-95b4-4a18-9834-bfd4e70743ff",
   "metadata": {},
   "outputs": [
    {
     "data": {
      "text/plain": [
       "0"
      ]
     },
     "execution_count": 12,
     "metadata": {},
     "output_type": "execute_result"
    }
   ],
   "source": [
    "os.system(\"vivado -mode batch -source Script/tcl_run.tcl -tclargs {}\".format(top_module_string))"
   ]
  },
  {
   "cell_type": "code",
   "execution_count": 5,
   "id": "725acb52-9ad4-4bd8-823b-0fd8d7cdc6e5",
   "metadata": {},
   "outputs": [],
   "source": [
    "impl_dir = os.listdir(\"Impl\")"
   ]
  },
  {
   "attachments": {},
   "cell_type": "markdown",
   "id": "0c9fcf5e",
   "metadata": {},
   "source": [
    "Generating Result.csv file \n",
    "The approach is to search for certain text in the generated reports and extract out the numerical values needed."
   ]
  },
  {
   "cell_type": "code",
   "execution_count": 7,
   "id": "3bfbc79b-cde0-4eb1-879f-aafac4fd8995",
   "metadata": {},
   "outputs": [],
   "source": [
    "DatapathDelay = []\n",
    "logic_delay=[]\n",
    "routing_delay=[]\n",
    "\n",
    "file_name=[]\n",
    "\n",
    "DynamicPower = []\n",
    "static_power=[]\n",
    "signal_power=[]\n",
    "logic_power=[]\n",
    "i_o_power=[]\n",
    "total_power=[]\n",
    "\n",
    "\n",
    "f7_muxes=[]\n",
    "lut_as_memory=[]\n",
    "lut_as_logic=[]\n",
    "slice_lut=[]\n",
    "lut1=[]\n",
    "lut2=[]\n",
    "lut3=[]\n",
    "lut4=[]\n",
    "lut5=[]\n",
    "lut6=[]\n",
    "lut7=[]\n",
    "\n",
    "for mod in impl_dir:\n",
    "    if (\"timing.txt\" not in os.listdir(\"Impl/{}\".format(mod))):  # if implemented reports are not present, move to next iteration\n",
    "        continue\n",
    "    with open(\"Impl/{}/timing.txt\".format(mod)) as f:\n",
    "        lines = f.read()\n",
    "        timing = lines.split(\"\\n\")\n",
    "        try:\n",
    "            timing_info = [line for line in timing if \"Data Path Delay\" in line]\n",
    "            dpd = float(timing_info[0].split()[3][:-2])\n",
    "            DatapathDelay.append(dpd)\n",
    "\n",
    "            timing_info = [line for line in timing if \"Data Path Delay\" in line]\n",
    "            dpd = float(timing_info[0].split()[5][:-2])\n",
    "            logic_delay.append(dpd)\n",
    "\n",
    "            timing_info = [line for line in timing if \"Data Path Delay\" in line]\n",
    "            dpd = float(timing_info[0].split()[8][:-2])\n",
    "            routing_delay.append(dpd)\n",
    "        except:\n",
    "            DatapathDelay.append(\"No Timing Paths Found\")\n",
    "            logic_delay.append(\"No Timing Paths Found\")\n",
    "            routing_delay.append(\"No Timing Paths Found\")\n",
    "    \n",
    "    file_name.append(mod)    \n",
    "    \n",
    "    with open(\"Impl/{}/power.txt\".format(mod)) as f:\n",
    "        lines = f.read()\n",
    "        power = lines.split(\"\\n\")\n",
    "        \n",
    "        try:\n",
    "            power_info = [line for line in power if \"Dynamic\" in line]\n",
    "            dpower = float(power_info[0].split(\"|\")[2].strip())\n",
    "            DynamicPower.append(dpower)\n",
    "        except:\n",
    "            DynamicPower.append(\"Not Generated\")\n",
    "            \n",
    "        \n",
    "        try:\n",
    "            power_info = [line for line in power if \"Static Power\" in line]\n",
    "            dpower = float(power_info[0].split(\"|\")[2].strip())\n",
    "            static_power.append(dpower)\n",
    "        except:    \n",
    "            static_power.append(\"Not Generated\")\n",
    "\n",
    "        try:    \n",
    "            power_info = [line for line in power if \"Signals\" in line]\n",
    "            #print(power_info)\n",
    "            dpower = float(power_info[0].split(\"|\")[2].strip())\n",
    "            signal_power.append(dpower)        \n",
    "        except:\n",
    "            signal_power.append(\"Not Generated\")\n",
    "            \n",
    "        try:    \n",
    "            power_info = [line for line in power if \"Slice Logic\" in line]\n",
    "            #print(power_info)\n",
    "            dpower = float(power_info[0].split(\"|\")[2].strip())\n",
    "            logic_power.append(dpower)   \n",
    "\n",
    "        except:\n",
    "            logic_power.append(\"Not Generated\") \n",
    "        try:    \n",
    "            power_info = [line for line in power if \"I/O\" in line]\n",
    "            #print(power_info)\n",
    "            dpower = float(power_info[0].split(\"|\")[2].strip())\n",
    "            i_o_power.append(dpower) \n",
    "\n",
    "        except:    \n",
    "            i_o_power.append(\"Not Generated\") \n",
    "        try:    \n",
    "            power_info = [line for line in power if \"Total On-Chip Power\" in line]\n",
    "            #print(power_info)\n",
    "            dpower = float(power_info[0].split(\"|\")[2].strip())\n",
    "            total_power.append(dpower) \n",
    "        except:\n",
    "            total_power.append(\"Not Generated\") \n",
    "            \n",
    "    with open(\"Impl/{}/utilization.txt\".format(mod)) as f:\n",
    "        lines = f.read()\n",
    "        uti = lines.split(\"\\n\")\n",
    "        \n",
    "        try:\n",
    "            uti_info = [line for line in uti if \"F7 Muxes\" in line]\n",
    "            util = int(uti_info[0].split(\"|\")[2].strip())\n",
    "            f7_muxes.append(util)\n",
    "        except:\n",
    "            f7_muxes.append(0)\n",
    "        \n",
    "        uti_info = [line for line in uti if \"LUT as Memory\" in line]\n",
    "        util = int(uti_info[0].split(\"|\")[2].strip())\n",
    "        lut_as_memory.append(util)\n",
    "        \n",
    "        uti_info = [line for line in uti if \"LUT as Logic\" in line]\n",
    "        util = int(uti_info[0].split(\"|\")[2].strip())\n",
    "        lut_as_logic.append(util)\n",
    "        \n",
    "        uti_info = [line for line in uti if \"Slice LUTs\" in line]\n",
    "        util = int(uti_info[0].split(\"|\")[2].strip())\n",
    "        slice_lut.append(util)\n",
    "        \n",
    "        uti_info = [line for line in uti if \"| LUT1\" in line]\n",
    "        try:\n",
    "            util = int(uti_info[0].split(\"|\")[2].strip())\n",
    "            lut1.append(util)\n",
    "        except:\n",
    "            lut1.append(0)\n",
    "            \n",
    "        uti_info = [line for line in uti if \"| LUT2\" in line]\n",
    "        try:\n",
    "            util = int(uti_info[0].split(\"|\")[2].strip())\n",
    "            lut2.append(util)\n",
    "        except:\n",
    "            lut2.append(0)\n",
    "            \n",
    "            \n",
    "        uti_info = [line for line in uti if \"| LUT3\" in line]\n",
    "        try:\n",
    "            util = int(uti_info[0].split(\"|\")[2].strip())\n",
    "            lut3.append(util)\n",
    "        except:\n",
    "            lut3.append(0)\n",
    "            \n",
    "            \n",
    "        uti_info = [line for line in uti if \"| LUT4\" in line]\n",
    "        try:\n",
    "            util = int(uti_info[0].split(\"|\")[2].strip())\n",
    "            lut4.append(util)\n",
    "        except:\n",
    "            lut4.append(0) \n",
    "            \n",
    "        uti_info = [line for line in uti if \"| LUT5\" in line]\n",
    "        try:\n",
    "            util = int(uti_info[0].split(\"|\")[2].strip())\n",
    "            lut5.append(util)\n",
    "        except:\n",
    "            lut5.append(0)\n",
    "           \n",
    "        uti_info = [line for line in uti if \"| LUT6\" in line]\n",
    "        try:\n",
    "            util = int(uti_info[0].split(\"|\")[2].strip())\n",
    "            lut6.append(util)\n",
    "        except:\n",
    "            lut6.append(0)        \n",
    "            \n",
    "        uti_info = [line for line in uti if \"| LUT7\" in line]\n",
    "        try:\n",
    "            util = int(uti_info[0].split(\"|\")[2].strip())\n",
    "            lut7.append(util)\n",
    "        except:\n",
    "            lut7.append(0)            "
   ]
  },
  {
   "cell_type": "code",
   "execution_count": 8,
   "id": "10e911d7-5cf3-47d1-95b4-a3848c307702",
   "metadata": {},
   "outputs": [],
   "source": [
    "title_list=[\"Design Name\",\"Datapath Delay\",\"Logic Delay\",\"Routing Delay\",\"Dynamic Power\",\"Static Power\",\n",
    "\"Signal Power\",\"Logic Power\",\"IO Power\",\"Total Power\",\"F7 Muxes\",\"LUT as Memory\",\"LUT as Logic\",\"Slice LUTs\",\n",
    "  \"LUT1\",\"LUT2\",\"LUT3\",\"LUT4\",\"LUT5\",\"LUT6\",\"LUT7\"]         \n",
    "\n",
    "result = [file_name,DatapathDelay,logic_delay,routing_delay,DynamicPower,static_power,signal_power,logic_power,i_o_power,total_power,f7_muxes,lut_as_memory,lut_as_logic,slice_lut\n",
    ",lut1,lut2,lut3,lut4,lut5,lut6,lut7]\n",
    "\n",
    "resultT = np.array(result).T\n",
    "df = pd.DataFrame(resultT)\n",
    "df.columns = title_list"
   ]
  },
  {
   "cell_type": "code",
   "execution_count": 9,
   "id": "63cf471c-9db6-4f3b-9a6b-9bdc1434b549",
   "metadata": {},
   "outputs": [],
   "source": [
    "df.to_csv(\"result.csv\")"
   ]
  },
  {
   "cell_type": "code",
   "execution_count": null,
   "id": "9d2a42af-d383-4a7b-9719-a3476e42cb88",
   "metadata": {},
   "outputs": [],
   "source": []
  }
 ],
 "metadata": {
  "kernelspec": {
   "display_name": "Python 3",
   "language": "python",
   "name": "python3"
  },
  "language_info": {
   "codemirror_mode": {
    "name": "ipython",
    "version": 3
   },
   "file_extension": ".py",
   "mimetype": "text/x-python",
   "name": "python",
   "nbconvert_exporter": "python",
   "pygments_lexer": "ipython3",
   "version": "3.6.8"
  }
 },
 "nbformat": 4,
 "nbformat_minor": 5
}
